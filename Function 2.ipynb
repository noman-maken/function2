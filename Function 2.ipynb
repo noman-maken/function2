{
 "cells": [
  {
   "cell_type": "markdown",
   "metadata": {},
   "source": [
    "Which of the following functions is a built-in function in python?\n",
    "\n",
    "a) seed()\n",
    "b) sqrt()\n",
    "c) factorial()\n",
    "d) print()\n",
    "\n",
    "The function seed is a function which is present in the random module. The functions sqrt and factorial are a part of the math module. The print function is a built-in function which prints a value directly to the system output."
   ]
  },
  {
   "cell_type": "code",
   "execution_count": 1,
   "metadata": {},
   "outputs": [
    {
     "data": {
      "text/plain": [
       "5"
      ]
     },
     "execution_count": 1,
     "metadata": {},
     "output_type": "execute_result"
    }
   ],
   "source": [
    "round(4.576)\n",
    "\n",
    "\n",
    "#This is a built-in function which rounds a number to give precision in decimal digits. \n",
    "#In the above case, since the number of decimal places has not been specified, \n",
    "#the decimal number is rounded off to a whole number. \n",
    "#Hence the output will be 5.\n",
    "\n",
    "#round() function in Python\n",
    "\n",
    "#Python provides an inbuilt function round()\n",
    "#which rounds off to the given number of digits and returns the floating point number,\n",
    "#if no number of digits is provided for round off , it rounds off the number to the nearest integer."
   ]
  },
  {
   "cell_type": "markdown",
   "metadata": {},
   "source": [
    "The function pow(x,y,z) is evaluated as:\n",
    "    \n",
    "a) (x**y)**z\n",
    "b) (x**y) / z\n",
    "c) (x**y) % z\n",
    "d) (x**y)*z\n",
    "\n",
    "The built-in function pow() can accept two or three arguments. When it takes in two arguments, they are evaluated as x**y. When it takes in three arguments, they are evaluated as (x**y)%z."
   ]
  },
  {
   "cell_type": "markdown",
   "metadata": {},
   "source": [
    "all([2,4,0,6])\n",
    "\n",
    "a) Error\n",
    "b) True\n",
    "c) False\n",
    "d) 0\n",
    "\n",
    "The function all returns false if any one of the elements of the iterable is zero and true if all the elements of the iterable are non zero. Hence the output of this function will be false.\n",
    "\n",
    "simple agr ek bh zero huva to false agr ek bh zero na huva to true hoga all function me"
   ]
  },
  {
   "cell_type": "code",
   "execution_count": 2,
   "metadata": {},
   "outputs": [
    {
     "data": {
      "text/plain": [
       "False"
      ]
     },
     "execution_count": 2,
     "metadata": {},
     "output_type": "execute_result"
    }
   ],
   "source": [
    "all([2,4,0,6])"
   ]
  },
  {
   "cell_type": "code",
   "execution_count": 3,
   "metadata": {},
   "outputs": [
    {
     "data": {
      "text/plain": [
       "True"
      ]
     },
     "execution_count": 3,
     "metadata": {},
     "output_type": "execute_result"
    }
   ],
   "source": [
    "all([2,4,2,6])"
   ]
  },
  {
   "cell_type": "code",
   "execution_count": 4,
   "metadata": {},
   "outputs": [
    {
     "data": {
      "text/plain": [
       "True"
      ]
     },
     "execution_count": 4,
     "metadata": {},
     "output_type": "execute_result"
    }
   ],
   "source": [
    "all([2,4,10,6])"
   ]
  },
  {
   "cell_type": "markdown",
   "metadata": {},
   "source": [
    "all([2,4,01,6])\n",
    "\n",
    "agr zero pehle hoga to error aye ga q ke ye math nh pyhton ha aur python ke rules ke mutabk chlna hota ha wrna kam kgrb aur agr float ho to phr bh error ajae ga"
   ]
  },
  {
   "cell_type": "markdown",
   "metadata": {},
   "source": [
    "round(4.5676,2)\n",
    "\n",
    "a) 4.5\n",
    "b) 4.6\n",
    "c) 4.57\n",
    "d) 4.56\n",
    "\n",
    "The function round is used to round off the given decimal number to the specified decimal places. In this case, the number should be rounded off to two decimal places. Hence the output will be 4.57.\n"
   ]
  },
  {
   "cell_type": "code",
   "execution_count": 5,
   "metadata": {},
   "outputs": [
    {
     "data": {
      "text/plain": [
       "4.57"
      ]
     },
     "execution_count": 5,
     "metadata": {},
     "output_type": "execute_result"
    }
   ],
   "source": [
    "round(4.5676,2)"
   ]
  },
  {
   "cell_type": "code",
   "execution_count": 6,
   "metadata": {},
   "outputs": [
    {
     "data": {
      "text/plain": [
       "4.5676"
      ]
     },
     "execution_count": 6,
     "metadata": {},
     "output_type": "execute_result"
    }
   ],
   "source": [
    "round(4.56764,4)\n",
    "\n",
    "#agr last value pehle vli se bari hogi to 5 ya 5 se zada hoto add hojae ga float ki last value me \n",
    "\n",
    "# mtlb keh agr  4.56765 hota tp 4.5677 answer ata ab 4.56764 ha is lie 4.5676 aya"
   ]
  },
  {
   "cell_type": "markdown",
   "metadata": {},
   "source": [
    "any([2>8, 4>2, 1>2])\n",
    "\n",
    "a) Error\n",
    "b) True\n",
    "c) False\n",
    "d) 4>2\n",
    "\n",
    " The built-in function any() returns true if any or more of the elements of the iterable is true (non zero), If all the elements are zero, it returns false."
   ]
  },
  {
   "cell_type": "code",
   "execution_count": 7,
   "metadata": {},
   "outputs": [
    {
     "data": {
      "text/plain": [
       "True"
      ]
     },
     "execution_count": 7,
     "metadata": {},
     "output_type": "execute_result"
    }
   ],
   "source": [
    "any([2>8, 4>2, 1>2])\n"
   ]
  },
  {
   "cell_type": "markdown",
   "metadata": {},
   "source": [
    "import math\n",
    "abs(math.sqrt(25))\n",
    "\n",
    "a) Error\n",
    "b) -5\n",
    "c) 5\n",
    "d) 5.0\n",
    "\n",
    "The abs() function prints the absolute value of the argument passed. For example: abs(-5)=5. Hence, in this case we get abs(5.0)=5.0.\n",
    "\n",
    "abs() in Python\n",
    "The abs() function is used to return the absolute value of a number. ... If the argument is an integer or floating point number, abs() returns the absolute value in integer or float. In case of complex number, abs() returns only the magnitude part and that can also be a floating point number."
   ]
  },
  {
   "cell_type": "code",
   "execution_count": 8,
   "metadata": {},
   "outputs": [
    {
     "data": {
      "text/plain": [
       "5.0"
      ]
     },
     "execution_count": 8,
     "metadata": {},
     "output_type": "execute_result"
    }
   ],
   "source": [
    "import math\n",
    "abs(math.sqrt(25))"
   ]
  },
  {
   "cell_type": "code",
   "execution_count": 9,
   "metadata": {},
   "outputs": [
    {
     "data": {
      "text/plain": [
       "9.219544457292887"
      ]
     },
     "execution_count": 9,
     "metadata": {},
     "output_type": "execute_result"
    }
   ],
   "source": [
    "import math\n",
    "abs(math.sqrt(85))"
   ]
  },
  {
   "cell_type": "code",
   "execution_count": 10,
   "metadata": {},
   "outputs": [
    {
     "data": {
      "text/plain": [
       "9.0"
      ]
     },
     "execution_count": 10,
     "metadata": {},
     "output_type": "execute_result"
    }
   ],
   "source": [
    "import math\n",
    "abs(math.sqrt(81))"
   ]
  },
  {
   "cell_type": "markdown",
   "metadata": {},
   "source": [
    "sum(2,4,6)\n",
    "sum([1,2,3])\n",
    "a) Error, 6\n",
    "b) 12, Error\n",
    "c) 12, 6\n",
    "d) Error, Error\n",
    "\n",
    "The first function will result in an error because the function sum() is used to find the sum of iterable numbers. Hence the outcomes will be Error and 6 respectively."
   ]
  },
  {
   "cell_type": "code",
   "execution_count": 11,
   "metadata": {},
   "outputs": [
    {
     "ename": "TypeError",
     "evalue": "all() takes exactly one argument (3 given)",
     "output_type": "error",
     "traceback": [
      "\u001b[0;31m---------------------------------------------------------------------------\u001b[0m",
      "\u001b[0;31mTypeError\u001b[0m                                 Traceback (most recent call last)",
      "\u001b[0;32m<ipython-input-11-b4e90da83238>\u001b[0m in \u001b[0;36m<module>\u001b[0;34m()\u001b[0m\n\u001b[0;32m----> 1\u001b[0;31m \u001b[0mall\u001b[0m\u001b[0;34m(\u001b[0m\u001b[0;36m3\u001b[0m\u001b[0;34m,\u001b[0m\u001b[0;36m0\u001b[0m\u001b[0;34m,\u001b[0m\u001b[0;36m4.2\u001b[0m\u001b[0;34m)\u001b[0m\u001b[0;34m\u001b[0m\u001b[0;34m\u001b[0m\u001b[0m\n\u001b[0m\u001b[1;32m      2\u001b[0m \u001b[0;34m\u001b[0m\u001b[0m\n",
      "\u001b[0;31mTypeError\u001b[0m: all() takes exactly one argument (3 given)"
     ]
    }
   ],
   "source": [
    "all(3,0,4.2)\n",
    "\n"
   ]
  },
  {
   "cell_type": "code",
   "execution_count": 12,
   "metadata": {},
   "outputs": [
    {
     "name": "stdout",
     "output_type": "stream",
     "text": [
      "125\n"
     ]
    }
   ],
   "source": [
    "lamb = lambda x: x ** 3\n",
    "print(lamb(5))\n",
    "\n",
    "# ** power ke lie use hota ha misal 5**3=25"
   ]
  },
  {
   "cell_type": "code",
   "execution_count": 13,
   "metadata": {},
   "outputs": [
    {
     "ename": "SyntaxError",
     "evalue": "invalid syntax (<ipython-input-13-362eb288a04e>, line 2)",
     "output_type": "error",
     "traceback": [
      "\u001b[0;36m  File \u001b[0;32m\"<ipython-input-13-362eb288a04e>\"\u001b[0;36m, line \u001b[0;32m2\u001b[0m\n\u001b[0;31m    a) True\u001b[0m\n\u001b[0m     ^\u001b[0m\n\u001b[0;31mSyntaxError\u001b[0m\u001b[0;31m:\u001b[0m invalid syntax\n"
     ]
    }
   ],
   "source": [
    "Does Lambda contains return statements?\n",
    "a) True\n",
    "b) False #Correct\n",
    "\n",
    "#lambda definition does not include a return statement. \n",
    "#it always contains an expression which is returned. \n",
    "#Also note that we can put a lambda definition anywhere a function is expected.\n",
    "#We don’t have to assign it to a variable at all."
   ]
  },
  {
   "cell_type": "code",
   "execution_count": 14,
   "metadata": {
    "scrolled": true
   },
   "outputs": [
    {
     "data": {
      "text/plain": [
       "432"
      ]
     },
     "execution_count": 14,
     "metadata": {},
     "output_type": "execute_result"
    }
   ],
   "source": [
    "def f(x, y, z): return x + y + z\n",
    "f(2, 30, 400)\n",
    "\n",
    "#Add"
   ]
  },
  {
   "cell_type": "code",
   "execution_count": 15,
   "metadata": {},
   "outputs": [
    {
     "data": {
      "text/plain": [
       "'Sir Arthur'"
      ]
     },
     "execution_count": 15,
     "metadata": {},
     "output_type": "execute_result"
    }
   ],
   "source": [
    "def writer():\n",
    "    title = 'Sir'\n",
    "    name = (lambda x:title + ' ' + x)\n",
    "    return name\n",
    " \n",
    "who = writer()\n",
    "who('Arthur')\n"
   ]
  },
  {
   "cell_type": "code",
   "execution_count": 16,
   "metadata": {},
   "outputs": [
    {
     "name": "stdout",
     "output_type": "stream",
     "text": [
      "9\n",
      "27\n",
      "81\n"
     ]
    }
   ],
   "source": [
    "L = [lambda x: x ** 2,\n",
    "         lambda x: x ** 3,\n",
    "         lambda x: x ** 4]\n",
    " \n",
    "for f in L:\n",
    "    print(f(3))"
   ]
  },
  {
   "cell_type": "markdown",
   "metadata": {},
   "source": [
    "What is a variable defined outside a function referred to as?\n",
    "\n",
    "a) A static variable\n",
    "b) A global variable\n",
    "c) A local variable\n",
    "d) An automatic variable\n",
    "\n",
    "\n",
    "#The value of a variable defined outside all function definitions is referred to as a global variable can be used by multiple functions of the program."
   ]
  },
  {
   "cell_type": "code",
   "execution_count": 17,
   "metadata": {},
   "outputs": [
    {
     "name": "stdout",
     "output_type": "stream",
     "text": [
      "0\n"
     ]
    }
   ],
   "source": [
    "i=0\n",
    "def change(i):\n",
    "   i=i+1\n",
    "   return i\n",
    "change(1)\n",
    "print(i)\n",
    "\n",
    "# Any change made in to an immutable data type in a function isn’t reflected outside the function."
   ]
  },
  {
   "cell_type": "code",
   "execution_count": 18,
   "metadata": {},
   "outputs": [
    {
     "name": "stdout",
     "output_type": "stream",
     "text": [
      "10\n",
      "56\n"
     ]
    }
   ],
   "source": [
    "a=10 \n",
    "b=20\n",
    "def change():\n",
    "    global b  #Global Variable\n",
    "    a=45\n",
    "    b=56\n",
    "change()\n",
    "print(a)\n",
    "print(b)\n",
    "\n",
    "#The statement “global b” allows the global value of b to be accessed and changed. \n",
    "#Whereas the variable a is local and hence the change isn’t reflected outside the function."
   ]
  },
  {
   "cell_type": "code",
   "execution_count": 19,
   "metadata": {},
   "outputs": [
    {
     "name": "stdout",
     "output_type": "stream",
     "text": [
      "3 2\n"
     ]
    }
   ],
   "source": [
    "def result(i = 1, j = 2):\n",
    "    i = i + j                       # i = 2+1=3\n",
    "    j = j + 1                       # j = 1+1=2\n",
    "    print(i, j)\n",
    "result(j = 1, i = 2)\n",
    "\n",
    "#The values given during function call is taken into consideration, that is, i=2 and j=1.\n",
    "\n",
    "\n"
   ]
  },
  {
   "cell_type": "markdown",
   "metadata": {},
   "source": [
    "def change(one, *two):\n",
    "   print(type(two))\n",
    "change(1,2,3,4)  \n",
    "\n",
    "\n",
    "a) Integer\n",
    "b) Tuple\n",
    "c) Dictionary\n",
    "d) An exception is thrown\n",
    "\n",
    "The parameter two is a variable parameter and consists of (2,3,4). Hence the data type is tuple."
   ]
  },
  {
   "cell_type": "code",
   "execution_count": 20,
   "metadata": {},
   "outputs": [
    {
     "name": "stdout",
     "output_type": "stream",
     "text": [
      "zzz"
     ]
    }
   ],
   "source": [
    "def display(b, n):\n",
    "    while n > 0:\n",
    "        print(b,end=\"\")\n",
    "        n=n-1\n",
    "display('z',3)\n",
    "\n",
    "#The loop runs three times and ‘z’ is printed each time."
   ]
  },
  {
   "cell_type": "code",
   "execution_count": 17,
   "metadata": {},
   "outputs": [
    {
     "name": "stdout",
     "output_type": "stream",
     "text": [
      "<class 'dict'>\n"
     ]
    }
   ],
   "source": [
    "def find(a, **b):\n",
    "   print(type(b))\n",
    "find('letters',A='1',B='2')"
   ]
  },
  {
   "cell_type": "code",
   "execution_count": 18,
   "metadata": {},
   "outputs": [
    {
     "data": {
      "text/plain": [
       "str"
      ]
     },
     "execution_count": 18,
     "metadata": {},
     "output_type": "execute_result"
    }
   ],
   "source": [
    "type (\"b\")"
   ]
  },
  {
   "cell_type": "code",
   "execution_count": null,
   "metadata": {},
   "outputs": [],
   "source": [
    "#type(a)"
   ]
  },
  {
   "cell_type": "code",
   "execution_count": null,
   "metadata": {},
   "outputs": [],
   "source": [
    "#type (c)"
   ]
  },
  {
   "cell_type": "code",
   "execution_count": null,
   "metadata": {},
   "outputs": [],
   "source": []
  }
 ],
 "metadata": {
  "kernelspec": {
   "display_name": "Python 2",
   "language": "python",
   "name": "python2"
  },
  "language_info": {
   "codemirror_mode": {
    "name": "ipython",
    "version": 3
   },
   "file_extension": ".py",
   "mimetype": "text/x-python",
   "name": "python",
   "nbconvert_exporter": "python",
   "pygments_lexer": "ipython3",
   "version": "3.6.9"
  }
 },
 "nbformat": 4,
 "nbformat_minor": 2
}
